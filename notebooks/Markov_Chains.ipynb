{
  "nbformat": 4,
  "nbformat_minor": 0,
  "metadata": {
    "colab": {
      "name": "Markov Chains",
      "provenance": []
    },
    "kernelspec": {
      "name": "python3",
      "display_name": "Python 3"
    },
    "language_info": {
      "name": "python"
    }
  },
  "cells": [
    {
      "cell_type": "markdown",
      "metadata": {
        "id": "xfWH8aGk5U94"
      },
      "source": [
        "# Markov Chains\n",
        "\n",
        "This notebook demonstrates a simple Markov Chain with three states (e.g., sunny, cloudy, rainy). For an overview of Markov Chains, see [the Wikipedia article](https://en.wikipedia.org/wiki/Markov_chain) on the subject."
      ]
    },
    {
      "cell_type": "markdown",
      "metadata": {
        "id": "DMqFWJk58gX9"
      },
      "source": [
        "First, import some Python packages that will be needed:"
      ]
    },
    {
      "cell_type": "code",
      "metadata": {
        "id": "uq9r9zC4ZNyc"
      },
      "source": [
        "%matplotlib inline\n",
        "\n",
        "import numpy as np\n",
        "import matplotlib.pyplot as plt\n",
        "import scipy.linalg"
      ],
      "execution_count": null,
      "outputs": []
    },
    {
      "cell_type": "markdown",
      "metadata": {
        "id": "FUqyfiF-wIoy"
      },
      "source": [
        "Define the transition matrix $P_{ij}$, which gives the probability of transitioning from state $i$ to state $j$:"
      ]
    },
    {
      "cell_type": "code",
      "metadata": {
        "id": "N5PsCAb5ZVgy"
      },
      "source": [
        "P = np.array([\n",
        "    [0.7, 0.2, 0.1], # P_{0j}: Probabilities of transitioning from state 0 to j\n",
        "    [0.3, 0.5, 0.2],\n",
        "    [0.2, 0.5, 0.3]  # Each row sums to 1\n",
        "])"
      ],
      "execution_count": null,
      "outputs": []
    },
    {
      "cell_type": "markdown",
      "metadata": {
        "id": "p_9kGcCJwLI8"
      },
      "source": [
        "As we raise the transition matrix to higher powers, it converges to a limit, in which each column is a constant:\n",
        "\n",
        "$$\n",
        "  \\lim_{k\\rightarrow\\infty} P^k =\n",
        "  \\begin{pmatrix}\n",
        "    p_0 & p_1 & \\cdots & p_N \\\\\n",
        "    p_0 & p_1 & \\cdots & p_N \\\\\n",
        "    \\vdots & \\vdots & \\ddots & \\vdots \\\\\n",
        "    p_0 & p_1 & \\cdots & p_N\n",
        "  \\end{pmatrix}\n",
        "  \\, .\n",
        "$$"
      ]
    },
    {
      "cell_type": "code",
      "metadata": {
        "colab": {
          "base_uri": "https://localhost:8080/"
        },
        "id": "qkpq2bLQZnJ4",
        "outputId": "a7ab13c5-0ab3-4520-f3f2-a08e8c7df732"
      },
      "source": [
        "for k in [2, 4, 8, 16]:\n",
        "    print(f'P^{k}:')\n",
        "    print(np.linalg.matrix_power(P, k))\n",
        "    print('')"
      ],
      "execution_count": null,
      "outputs": [
        {
          "output_type": "stream",
          "name": "stdout",
          "text": [
            "P^2:\n",
            "[[0.57 0.29 0.14]\n",
            " [0.4  0.41 0.19]\n",
            " [0.35 0.44 0.21]]\n",
            "\n",
            "P^4:\n",
            "[[0.4899 0.3458 0.1643]\n",
            " [0.4585 0.3677 0.1738]\n",
            " [0.449  0.3743 0.1767]]\n",
            "\n",
            "P^8:\n",
            "[[0.47232201 0.35805557 0.16962242]\n",
            " [0.4712458  0.35880593 0.16994827]\n",
            " [0.47091995 0.35903312 0.17004693]]\n",
            "\n",
            "P^16:\n",
            "[[0.47169885 0.35849005 0.1698111 ]\n",
            " [0.47169758 0.35849094 0.16981148]\n",
            " [0.4716972  0.3584912  0.1698116 ]]\n",
            "\n"
          ]
        }
      ]
    },
    {
      "cell_type": "markdown",
      "metadata": {
        "id": "ZtyEgoy96yBK"
      },
      "source": [
        "We can plot the entries of $P^k$, showing how each column converges to a different constant:"
      ]
    },
    {
      "cell_type": "code",
      "metadata": {
        "id": "44C1kjEvaEoX"
      },
      "source": [
        "P_k = np.array([np.linalg.matrix_power(P,k) for k in range(10)])"
      ],
      "execution_count": null,
      "outputs": []
    },
    {
      "cell_type": "code",
      "metadata": {
        "colab": {
          "base_uri": "https://localhost:8080/",
          "height": 284
        },
        "id": "GF537WYaabm_",
        "outputId": "9bebc895-eae4-4e53-ba86-c934fbe24ce6"
      },
      "source": [
        "t = np.arange(P_k.shape[0])\n",
        "\n",
        "for col in range(P_k.shape[2]):\n",
        "    l = None\n",
        "    for row in range(P_k.shape[1]):\n",
        "        if l is not None:\n",
        "            c = l.get_color()\n",
        "            kw = dict(c=c)\n",
        "        else:\n",
        "            kw = dict(label=f'j={col}')\n",
        "        l, = plt.plot(t, P_k[:,row,col], **kw)\n",
        "\n",
        "plt.xlabel(r'$k$', fontsize=14)\n",
        "plt.ylabel(r'$\\left(P^k\\right)_{i,j}$', fontsize=14)\n",
        "plt.legend()\n",
        "plt.show()"
      ],
      "execution_count": null,
      "outputs": [
        {
          "output_type": "display_data",
          "data": {
            "image/png": "[encoded data removed]",
            "text/plain": [
              "<Figure size 432x288 with 1 Axes>"
            ]
          },
          "metadata": {
            "needs_background": "light"
          }
        }
      ]
    },
    {
      "cell_type": "markdown",
      "metadata": {
        "id": "-McjY1Vhv_Sj"
      },
      "source": [
        "If $\\vec{\\pi}$ is the stationary distribution, then it is a left eigenvector of $P$, with eigenvalue 1:\n",
        "\n",
        "$$\n",
        "    \\vec{\\pi} P = \\vec{\\pi} \\, .\n",
        "$$\n",
        "\n",
        "We can therefore calculate the stationary distribution of the transition matrix by finding the left eigenvector with eigenvalue 1:"
      ]
    },
    {
      "cell_type": "code",
      "metadata": {
        "colab": {
          "base_uri": "https://localhost:8080/"
        },
        "id": "45RTMkk5cYOl",
        "outputId": "19b4ebca-082d-4f7e-90df-3628249aebd9"
      },
      "source": [
        "eival, eivec = scipy.linalg.eig(P, left=True, right=False)\n",
        "\n",
        "# Scipy returns the vector with the largest eigenvalue (1, in this case) first.\n",
        "# Normalize the eigenvector so that it sums to 1:\n",
        "state_stationary = eivec[:,0] / np.sum(eivec[:,0])\n",
        "\n",
        "print(f'Eigenvalue = {np.real(eival[0])}.')\n",
        "print(f'Stationary distribution: {state_stationary}')"
      ],
      "execution_count": null,
      "outputs": [
        {
          "output_type": "stream",
          "name": "stdout",
          "text": [
            "Eigenvalue = 1.0000000000000002.\n",
            "Stationary distribution: [0.47169811 0.35849057 0.16981132]\n"
          ]
        }
      ]
    },
    {
      "cell_type": "markdown",
      "metadata": {
        "id": "5DeeI6nuv2XC"
      },
      "source": [
        "Generate a Markov Chain using the transition probabilities and a random starting position:"
      ]
    },
    {
      "cell_type": "code",
      "metadata": {
        "id": "E1Rbo2LNggcG"
      },
      "source": [
        "n_iterations = 10000 # The number of times to transition\n",
        "\n",
        "rng = np.random.default_rng() # Initialize the random number generator\n",
        "\n",
        "chain = [rng.choice(np.arange(P.shape[0]))] # Start in a random state\n",
        "\n",
        "for k in range(n_iterations):\n",
        "    # Transition to the next state\n",
        "    chain.append(rng.choice(np.arange(P.shape[0]), p=P[chain[-1]]))"
      ],
      "execution_count": null,
      "outputs": []
    },
    {
      "cell_type": "markdown",
      "metadata": {
        "id": "OCWW9M4R713V"
      },
      "source": [
        "Print out the first 100 states in the chain:"
      ]
    },
    {
      "cell_type": "code",
      "metadata": {
        "colab": {
          "base_uri": "https://localhost:8080/"
        },
        "id": "re-uZ6Ryuh8Y",
        "outputId": "e77b5be4-0c9e-4fa4-be7a-785e2103453a"
      },
      "source": [
        "print('Chain: ' + ''.join([f'{s}' for s in chain[:100]]) + '...')"
      ],
      "execution_count": null,
      "outputs": [
        {
          "output_type": "stream",
          "name": "stdout",
          "text": [
            "Chain: 2000112111200020210000011121002111111001011011002010000211112000222222221002100012221000011121111000...\n"
          ]
        }
      ]
    },
    {
      "cell_type": "markdown",
      "metadata": {
        "id": "UHEr8gup74eO"
      },
      "source": [
        "Calculate the frequency of states in the chain (ignoring the first 1/4 of the chain). This should be close to the stationary distribution:"
      ]
    },
    {
      "cell_type": "code",
      "metadata": {
        "colab": {
          "base_uri": "https://localhost:8080/"
        },
        "id": "-s0jAGjeXDyZ",
        "outputId": "439c06c4-6e47-44bc-84b2-b60db64e4aab"
      },
      "source": [
        "_, counts = np.unique(chain[n_iterations//4:], return_counts=True)\n",
        "frac = counts / np.sum(counts)\n",
        "print(f'Frequency in chain: {frac}')"
      ],
      "execution_count": null,
      "outputs": [
        {
          "output_type": "stream",
          "name": "stdout",
          "text": [
            "Frequency in chain: [0.47873617 0.36021864 0.16104519]\n"
          ]
        }
      ]
    },
    {
      "cell_type": "code",
      "metadata": {
        "id": "GkQUYRFrXVF_"
      },
      "source": [
        ""
      ],
      "execution_count": null,
      "outputs": []
    }
  ]
}