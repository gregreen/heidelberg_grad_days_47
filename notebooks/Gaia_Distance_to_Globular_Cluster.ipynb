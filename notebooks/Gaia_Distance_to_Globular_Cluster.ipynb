{
  "nbformat": 4,
  "nbformat_minor": 0,
  "metadata": {
    "colab": {
      "name": "Gaia - Distance to Globular Cluster",
      "provenance": [],
      "collapsed_sections": []
    },
    "kernelspec": {
      "name": "python3",
      "display_name": "Python 3"
    },
    "language_info": {
      "name": "python"
    }
  },
  "cells": [
    {
      "cell_type": "markdown",
      "metadata": {
        "id": "tre1_qOb2wMF"
      },
      "source": [
        "# Introduction to Gaia data\n",
        "\n",
        "In this tutorial, we'll look at a globular cluster, 47 Tucanae. We'll see how to query Gaia data, and then do some basic calculations for 47 Tucanae."
      ]
    },
    {
      "cell_type": "code",
      "metadata": {
        "id": "iDmKUTiYzz0K"
      },
      "source": [
        "%matplotlib inline\n",
        "\n",
        "import numpy as np\n",
        "import matplotlib.pyplot as plt\n",
        "from astropy.table import Table\n",
        "from astropy.coordinates import SkyCoord\n",
        "import astropy.units as u"
      ],
      "execution_count": null,
      "outputs": []
    },
    {
      "cell_type": "markdown",
      "metadata": {
        "id": "n-8M2UvQ2pia"
      },
      "source": [
        "First, we look up the coordinates of the globular cluster 47 Tucanae:"
      ]
    },
    {
      "cell_type": "code",
      "metadata": {
        "colab": {
          "base_uri": "https://localhost:8080/"
        },
        "id": "1LRqXZJF1MGX",
        "outputId": "1277df44-b1b5-419b-c214-5ea48a55f3a5"
      },
      "source": [
        "c = SkyCoord.from_name('47 Tuc')\n",
        "print(c)"
      ],
      "execution_count": null,
      "outputs": [
        {
          "output_type": "stream",
          "name": "stdout",
          "text": [
            "<SkyCoord (ICRS): (ra, dec) in deg\n",
            "    (6.02232917, -72.08144444)>\n"
          ]
        }
      ]
    },
    {
      "cell_type": "markdown",
      "metadata": {
        "id": "AzBa63ng3ISV"
      },
      "source": [
        "Next, go to https://gea.esac.esa.int/archive/, click \"Search,\" and go to the \"Advanced (ADQL)\" tab. Here, we'll run an ADQL query (ADQL is a query language like SQL):\n",
        "\n",
        "    SELECT TOP 10000\n",
        "     *\n",
        "    FROM gaiaedr3.gaia_source\n",
        "    WHERE 1=CONTAINS(\n",
        "      POINT('ICRS', 6.02232917, -72.08144444),\n",
        "    CIRCLE('ICRS',ra, dec, 0.25))\n",
        "\n",
        "This will query sources in a 0.25 deg patch centered on 47 Tuc. Once the query is complete, download the results.\n",
        "\n",
        "Note that I've inserted `TOP 10000` above to limit the results to the first 10000 matches. You can remove this to get the full query results."
      ]
    },
    {
      "cell_type": "markdown",
      "metadata": {
        "id": "DtRVcKRW3sQI"
      },
      "source": [
        "Next, we open up the data table and take a look at what what is inside it:"
      ]
    },
    {
      "cell_type": "code",
      "metadata": {
        "id": "DaFuwhBo1YlB"
      },
      "source": [
        "data = Table.read('result.vot.gz')"
      ],
      "execution_count": null,
      "outputs": []
    },
    {
      "cell_type": "code",
      "metadata": {
        "colab": {
          "base_uri": "https://localhost:8080/",
          "height": 844
        },
        "id": "aui7wTum2j6O",
        "outputId": "42f7314f-4722-44d7-b9d7-04e1a2404cdf"
      },
      "source": [
        "data"
      ],
      "execution_count": null,
      "outputs": [
        {
          "output_type": "execute_result",
          "data": {
            "text/html": [
              "<div><i>Table length=119790</i>\n",
              "<table id=\"table140462939038032\" class=\"table-striped table-bordered table-condensed\">\n",
              "<thead><tr><th>solution_id</th><th>designation</th><th>source_id</th><th>random_index</th><th>ref_epoch</th><th>ra</th><th>ra_error</th><th>dec</th><th>dec_error</th><th>parallax</th><th>parallax_error</th><th>parallax_over_error</th><th>pm</th><th>pmra</th><th>pmra_error</th><th>pmdec</th><th>pmdec_error</th><th>ra_dec_corr</th><th>ra_parallax_corr</th><th>ra_pmra_corr</th><th>ra_pmdec_corr</th><th>dec_parallax_corr</th><th>dec_pmra_corr</th><th>dec_pmdec_corr</th><th>parallax_pmra_corr</th><th>parallax_pmdec_corr</th><th>pmra_pmdec_corr</th><th>astrometric_n_obs_al</th><th>astrometric_n_obs_ac</th><th>astrometric_n_good_obs_al</th><th>astrometric_n_bad_obs_al</th><th>astrometric_gof_al</th><th>astrometric_chi2_al</th><th>astrometric_excess_noise</th><th>astrometric_excess_noise_sig</th><th>astrometric_params_solved</th><th>astrometric_primary_flag</th><th>nu_eff_used_in_astrometry</th><th>pseudocolour</th><th>pseudocolour_error</th><th>ra_pseudocolour_corr</th><th>dec_pseudocolour_corr</th><th>parallax_pseudocolour_corr</th><th>pmra_pseudocolour_corr</th><th>pmdec_pseudocolour_corr</th><th>astrometric_matched_transits</th><th>visibility_periods_used</th><th>astrometric_sigma5d_max</th><th>matched_transits</th><th>new_matched_transits</th><th>matched_transits_removed</th><th>ipd_gof_harmonic_amplitude</th><th>ipd_gof_harmonic_phase</th><th>ipd_frac_multi_peak</th><th>ipd_frac_odd_win</th><th>ruwe</th><th>scan_direction_strength_k1</th><th>scan_direction_strength_k2</th><th>scan_direction_strength_k3</th><th>scan_direction_strength_k4</th><th>scan_direction_mean_k1</th><th>scan_direction_mean_k2</th><th>scan_direction_mean_k3</th><th>scan_direction_mean_k4</th><th>duplicated_source</th><th>phot_g_n_obs</th><th>phot_g_mean_flux</th><th>phot_g_mean_flux_error</th><th>phot_g_mean_flux_over_error</th><th>phot_g_mean_mag</th><th>phot_bp_n_obs</th><th>phot_bp_mean_flux</th><th>phot_bp_mean_flux_error</th><th>phot_bp_mean_flux_over_error</th><th>phot_bp_mean_mag</th><th>phot_rp_n_obs</th><th>phot_rp_mean_flux</th><th>phot_rp_mean_flux_error</th><th>phot_rp_mean_flux_over_error</th><th>phot_rp_mean_mag</th><th>phot_bp_n_contaminated_transits</th><th>phot_bp_n_blended_transits</th><th>phot_rp_n_contaminated_transits</th><th>phot_rp_n_blended_transits</th><th>phot_proc_mode</th><th>phot_bp_rp_excess_factor</th><th>bp_rp</th><th>bp_g</th><th>g_rp</th><th>dr2_radial_velocity</th><th>dr2_radial_velocity_error</th><th>dr2_rv_nb_transits</th><th>dr2_rv_template_teff</th><th>dr2_rv_template_logg</th><th>dr2_rv_template_fe_h</th><th>l</th><th>b</th><th>ecl_lon</th><th>ecl_lat</th></tr></thead>\n",
              "<thead><tr><th></th><th></th><th></th><th></th><th>yr</th><th>deg</th><th>mas</th><th>deg</th><th>mas</th><th>mas</th><th>mas</th><th></th><th>mas.yr**-1</th><th>mas.yr**-1</th><th>mas.yr**-1</th><th>mas.yr**-1</th><th>mas.yr**-1</th><th></th><th></th><th></th><th></th><th></th><th></th><th></th><th></th><th></th><th></th><th></th><th></th><th></th><th></th><th></th><th></th><th>mas</th><th></th><th></th><th></th><th>um**-1</th><th>um**-1</th><th>um**-1</th><th></th><th></th><th></th><th></th><th></th><th></th><th></th><th>mas</th><th></th><th></th><th></th><th></th><th>deg</th><th></th><th></th><th></th><th></th><th></th><th></th><th></th><th>deg</th><th>deg</th><th>deg</th><th>deg</th><th></th><th></th><th>&apos;electron&apos;.s**-1</th><th>&apos;electron&apos;.s**-1</th><th></th><th>mag</th><th></th><th>&apos;electron&apos;.s**-1</th><th>&apos;electron&apos;.s**-1</th><th></th><th>mag</th><th></th><th>&apos;electron&apos;.s**-1</th><th>&apos;electron&apos;.s**-1</th><th></th><th>mag</th><th></th><th></th><th></th><th></th><th></th><th></th><th>mag</th><th>mag</th><th>mag</th><th>km.s**-1</th><th>km.s**-1</th><th></th><th>K</th><th>log(cm.s**-2)</th><th>&apos;dex&apos;</th><th>deg</th><th>deg</th><th>deg</th><th>deg</th></tr></thead>\n",
              "<thead><tr><th>int64</th><th>object</th><th>int64</th><th>int64</th><th>float64</th><th>float64</th><th>float32</th><th>float64</th><th>float32</th><th>float64</th><th>float32</th><th>float32</th><th>float32</th><th>float64</th><th>float32</th><th>float64</th><th>float32</th><th>float32</th><th>float32</th><th>float32</th><th>float32</th><th>float32</th><th>float32</th><th>float32</th><th>float32</th><th>float32</th><th>float32</th><th>int16</th><th>int16</th><th>int16</th><th>int16</th><th>float32</th><th>float32</th><th>float32</th><th>float32</th><th>int16</th><th>bool</th><th>float32</th><th>float32</th><th>float32</th><th>float32</th><th>float32</th><th>float32</th><th>float32</th><th>float32</th><th>int16</th><th>int16</th><th>float32</th><th>int16</th><th>int16</th><th>int16</th><th>float32</th><th>float32</th><th>int16</th><th>int16</th><th>float32</th><th>float32</th><th>float32</th><th>float32</th><th>float32</th><th>float32</th><th>float32</th><th>float32</th><th>float32</th><th>bool</th><th>int16</th><th>float64</th><th>float32</th><th>float32</th><th>float32</th><th>int16</th><th>float64</th><th>float32</th><th>float32</th><th>float32</th><th>int16</th><th>float64</th><th>float32</th><th>float32</th><th>float32</th><th>int16</th><th>int16</th><th>int16</th><th>int16</th><th>int16</th><th>float32</th><th>float32</th><th>float32</th><th>float32</th><th>float32</th><th>float32</th><th>int16</th><th>float32</th><th>float32</th><th>float32</th><th>float64</th><th>float64</th><th>float64</th><th>float64</th></tr></thead>\n",
              "<tr><td>1636042515805110273</td><td>Gaia EDR3 4689643660613246592</td><td>4689643660613246592</td><td>767481269</td><td>2016.0</td><td>6.012985874890213</td><td>3.6050367</td><td>-71.99025539782122</td><td>5.4019704</td><td>--</td><td>--</td><td>--</td><td>--</td><td>--</td><td>--</td><td>--</td><td>--</td><td>-0.10342298</td><td>--</td><td>--</td><td>--</td><td>--</td><td>--</td><td>--</td><td>--</td><td>--</td><td>--</td><td>58</td><td>0</td><td>57</td><td>1</td><td>1.2776722</td><td>65.36875</td><td>1.7689201</td><td>0.53141165</td><td>3</td><td>False</td><td>--</td><td>--</td><td>--</td><td>--</td><td>--</td><td>--</td><td>--</td><td>--</td><td>7</td><td>5</td><td>10.746282</td><td>8</td><td>2</td><td>0</td><td>0.11067785</td><td>22.49528</td><td>0</td><td>0</td><td>--</td><td>0.37924471</td><td>0.8361588</td><td>0.39224353</td><td>0.6608724</td><td>31.028791</td><td>57.47055</td><td>40.30343</td><td>-28.57053</td><td>False</td><td>58</td><td>132.3230953476457</td><td>1.9035468</td><td>69.51397</td><td>20.383278</td><td>0</td><td>--</td><td>--</td><td>--</td><td>--</td><td>0</td><td>--</td><td>--</td><td>--</td><td>--</td><td>--</td><td>--</td><td>--</td><td>--</td><td>1</td><td>--</td><td>--</td><td>--</td><td>--</td><td>--</td><td>--</td><td>0</td><td>--</td><td>--</td><td>--</td><td>305.91864482856823</td><td>-44.97883999074066</td><td>311.41570612329645</td><td>-62.302293426471316</td></tr>\n",
              "<tr><td>1636042515805110273</td><td>Gaia EDR3 4689643660613247616</td><td>4689643660613247616</td><td>31042085</td><td>2016.0</td><td>6.01474784067142</td><td>1.6881387</td><td>-71.9872209388885</td><td>1.7354871</td><td>--</td><td>--</td><td>--</td><td>--</td><td>--</td><td>--</td><td>--</td><td>--</td><td>-0.6198246</td><td>--</td><td>--</td><td>--</td><td>--</td><td>--</td><td>--</td><td>--</td><td>--</td><td>--</td><td>90</td><td>0</td><td>88</td><td>2</td><td>0.16621874</td><td>84.483665</td><td>0.0</td><td>0.0</td><td>3</td><td>False</td><td>--</td><td>--</td><td>--</td><td>--</td><td>--</td><td>--</td><td>--</td><td>--</td><td>11</td><td>10</td><td>4.081321</td><td>13</td><td>5</td><td>0</td><td>0.11277931</td><td>28.4803</td><td>0</td><td>0</td><td>--</td><td>0.23085493</td><td>0.61350477</td><td>0.20961452</td><td>0.4715074</td><td>32.287235</td><td>51.192833</td><td>30.93017</td><td>-22.790628</td><td>False</td><td>88</td><td>119.48859291785708</td><td>1.3796628</td><td>86.6071</td><td>20.494051</td><td>0</td><td>--</td><td>--</td><td>--</td><td>--</td><td>0</td><td>--</td><td>--</td><td>--</td><td>--</td><td>--</td><td>--</td><td>--</td><td>--</td><td>2</td><td>--</td><td>--</td><td>--</td><td>--</td><td>--</td><td>--</td><td>0</td><td>--</td><td>--</td><td>--</td><td>305.91852668997404</td><td>-44.98192183633171</td><td>311.42187755737723</td><td>-62.3011638157787</td></tr>\n",
              "<tr><td>1636042515805110273</td><td>Gaia EDR3 4689643694968607360</td><td>4689643694968607360</td><td>1650136133</td><td>2016.0</td><td>6.0403650423449795</td><td>3.2505841</td><td>-71.98673759413805</td><td>1.6235269</td><td>--</td><td>--</td><td>--</td><td>--</td><td>--</td><td>--</td><td>--</td><td>--</td><td>-0.12949118</td><td>--</td><td>--</td><td>--</td><td>--</td><td>--</td><td>--</td><td>--</td><td>--</td><td>--</td><td>56</td><td>0</td><td>56</td><td>0</td><td>0.48473334</td><td>55.346863</td><td>1.1255534</td><td>0.21867245</td><td>3</td><td>False</td><td>--</td><td>--</td><td>--</td><td>--</td><td>--</td><td>--</td><td>--</td><td>--</td><td>7</td><td>7</td><td>7.5087414</td><td>8</td><td>2</td><td>0</td><td>0.012142202</td><td>116.87134</td><td>1</td><td>0</td><td>--</td><td>0.14020015</td><td>0.3521012</td><td>0.21306477</td><td>0.20471123</td><td>69.418915</td><td>57.94206</td><td>55.065826</td><td>37.464935</td><td>False</td><td>64</td><td>126.96500548252017</td><td>1.6496152</td><td>76.96644</td><td>20.428156</td><td>0</td><td>--</td><td>--</td><td>--</td><td>--</td><td>0</td><td>--</td><td>--</td><td>--</td><td>--</td><td>--</td><td>--</td><td>--</td><td>--</td><td>2</td><td>--</td><td>--</td><td>--</td><td>--</td><td>--</td><td>--</td><td>0</td><td>--</td><td>--</td><td>--</td><td>305.9075555519537</td><td>-44.98358544181167</td><td>311.4317104142292</td><td>-62.307652370458285</td></tr>\n",
              "<tr><td>1636042515805110273</td><td>Gaia EDR3 4689617654555051904</td><td>4689617654555051904</td><td>534550224</td><td>2016.0</td><td>5.278909249688093</td><td>1.2590485</td><td>-72.1399877182091</td><td>1.3982081</td><td>--</td><td>--</td><td>--</td><td>--</td><td>--</td><td>--</td><td>--</td><td>--</td><td>0.16898079</td><td>--</td><td>--</td><td>--</td><td>--</td><td>--</td><td>--</td><td>--</td><td>--</td><td>--</td><td>98</td><td>0</td><td>97</td><td>1</td><td>0.85776556</td><td>103.41032</td><td>0.0</td><td>0.0</td><td>3</td><td>False</td><td>--</td><td>--</td><td>--</td><td>--</td><td>--</td><td>--</td><td>--</td><td>--</td><td>11</td><td>10</td><td>3.3164515</td><td>11</td><td>3</td><td>0</td><td>0.1552578</td><td>171.3352</td><td>0</td><td>0</td><td>--</td><td>0.2501452</td><td>0.18303391</td><td>0.14593056</td><td>0.47546098</td><td>92.96994</td><td>82.96985</td><td>52.441578</td><td>35.17359</td><td>False</td><td>97</td><td>69.00955920691084</td><td>1.1266673</td><td>61.251057</td><td>21.090094</td><td>0</td><td>--</td><td>--</td><td>--</td><td>--</td><td>2</td><td>83.68966187615877</td><td>12.743558</td><td>6.567213</td><td>19.941216</td><td>--</td><td>--</td><td>0</td><td>0</td><td>0</td><td>--</td><td>--</td><td>--</td><td>1.1488781</td><td>--</td><td>--</td><td>0</td><td>--</td><td>--</td><td>--</td><td>306.2003702875933</td><td>-44.795331566960904</td><td>310.88671185084485</td><td>-62.1890152972008</td></tr>\n",
              "<tr><td>1636042515805110273</td><td>Gaia EDR3 4689643767969822080</td><td>4689643767969822080</td><td>699720356</td><td>2016.0</td><td>6.164815629331493</td><td>2.4570298</td><td>-71.96861718043633</td><td>2.1013758</td><td>--</td><td>--</td><td>--</td><td>--</td><td>--</td><td>--</td><td>--</td><td>--</td><td>-0.79374737</td><td>--</td><td>--</td><td>--</td><td>--</td><td>--</td><td>--</td><td>--</td><td>--</td><td>--</td><td>78</td><td>0</td><td>77</td><td>1</td><td>1.1344373</td><td>85.738075</td><td>0.0</td><td>0.0</td><td>3</td><td>False</td><td>--</td><td>--</td><td>--</td><td>--</td><td>--</td><td>--</td><td>--</td><td>--</td><td>9</td><td>6</td><td>4.622351</td><td>11</td><td>3</td><td>1</td><td>0.10558901</td><td>110.217804</td><td>0</td><td>70</td><td>--</td><td>0.31405687</td><td>0.50310624</td><td>0.3765746</td><td>0.42911115</td><td>-169.60416</td><td>-23.733675</td><td>30.33093</td><td>-10.1780405</td><td>False</td><td>76</td><td>125.32671365915002</td><td>1.3495528</td><td>92.86537</td><td>20.442257</td><td>0</td><td>--</td><td>--</td><td>--</td><td>--</td><td>0</td><td>--</td><td>--</td><td>--</td><td>--</td><td>--</td><td>--</td><td>--</td><td>--</td><td>2</td><td>--</td><td>--</td><td>--</td><td>--</td><td>--</td><td>--</td><td>0</td><td>--</td><td>--</td><td>--</td><td>305.85750232036486</td><td>-45.00720747595915</td><td>311.5083930900554</td><td>-62.330931217112074</td></tr>\n",
              "<tr><td>1636042515805110273</td><td>Gaia EDR3 4689643767969864448</td><td>4689643767969864448</td><td>570515731</td><td>2016.0</td><td>6.134850363774301</td><td>7.795947</td><td>-71.98028076669185</td><td>11.505154</td><td>--</td><td>--</td><td>--</td><td>--</td><td>--</td><td>--</td><td>--</td><td>--</td><td>-0.996449</td><td>--</td><td>--</td><td>--</td><td>--</td><td>--</td><td>--</td><td>--</td><td>--</td><td>--</td><td>61</td><td>0</td><td>60</td><td>1</td><td>2.855448</td><td>89.785324</td><td>1.7453355</td><td>3.3083332</td><td>3</td><td>False</td><td>--</td><td>--</td><td>--</td><td>--</td><td>--</td><td>--</td><td>--</td><td>--</td><td>7</td><td>6</td><td>17.455242</td><td>10</td><td>6</td><td>4</td><td>0.3246007</td><td>60.91121</td><td>0</td><td>100</td><td>--</td><td>0.4841188</td><td>0.91571885</td><td>0.36506316</td><td>0.6964955</td><td>-120.18288</td><td>64.24973</td><td>-0.03343122</td><td>-24.79416</td><td>False</td><td>69</td><td>377.35057618447127</td><td>2.4595947</td><td>153.41982</td><td>19.245504</td><td>0</td><td>--</td><td>--</td><td>--</td><td>--</td><td>0</td><td>--</td><td>--</td><td>--</td><td>--</td><td>--</td><td>--</td><td>--</td><td>--</td><td>2</td><td>--</td><td>--</td><td>--</td><td>--</td><td>--</td><td>--</td><td>0</td><td>--</td><td>--</td><td>--</td><td>305.86804747016845</td><td>-44.99430710471214</td><td>311.4765373456607</td><td>-62.329147289755895</td></tr>\n",
              "<tr><td>1636042515805110273</td><td>Gaia EDR3 4689644042839367040</td><td>4689644042839367040</td><td>713845011</td><td>2016.0</td><td>6.127127743886429</td><td>2.4869733</td><td>-71.95180776065729</td><td>3.76668</td><td>--</td><td>--</td><td>--</td><td>--</td><td>--</td><td>--</td><td>--</td><td>--</td><td>-0.97556293</td><td>--</td><td>--</td><td>--</td><td>--</td><td>--</td><td>--</td><td>--</td><td>--</td><td>--</td><td>137</td><td>0</td><td>135</td><td>2</td><td>1.139889</td><td>148.5302</td><td>0.9761328</td><td>0.67054754</td><td>3</td><td>False</td><td>--</td><td>--</td><td>--</td><td>--</td><td>--</td><td>--</td><td>--</td><td>--</td><td>16</td><td>10</td><td>4.891572</td><td>31</td><td>13</td><td>4</td><td>0.34332055</td><td>65.1413</td><td>0</td><td>55</td><td>--</td><td>0.07217228</td><td>0.9234541</td><td>0.11111779</td><td>0.7145321</td><td>62.76388</td><td>58.72374</td><td>-59.414265</td><td>-31.408413</td><td>False</td><td>150</td><td>203.10089568195747</td><td>1.2865914</td><td>157.85966</td><td>19.918087</td><td>0</td><td>--</td><td>--</td><td>--</td><td>--</td><td>0</td><td>--</td><td>--</td><td>--</td><td>--</td><td>--</td><td>--</td><td>--</td><td>--</td><td>2</td><td>--</td><td>--</td><td>--</td><td>--</td><td>--</td><td>--</td><td>0</td><td>--</td><td>--</td><td>--</td><td>305.87733179148336</td><td>-45.0221161124511</td><td>311.526025608465</td><td>-62.3121778943629</td></tr>\n",
              "<tr><td>1636042515805110273</td><td>Gaia EDR3 4689618925865404928</td><td>4689618925865404928</td><td>1096662535</td><td>2016.0</td><td>5.356262353125784</td><td>2.1157672</td><td>-72.07936440113637</td><td>2.4369946</td><td>--</td><td>--</td><td>--</td><td>--</td><td>--</td><td>--</td><td>--</td><td>--</td><td>-0.18553832</td><td>--</td><td>--</td><td>--</td><td>--</td><td>--</td><td>--</td><td>--</td><td>--</td><td>--</td><td>62</td><td>0</td><td>62</td><td>0</td><td>-1.1069231</td><td>45.40405</td><td>0.0</td><td>0.0</td><td>3</td><td>False</td><td>--</td><td>--</td><td>--</td><td>--</td><td>--</td><td>--</td><td>--</td><td>--</td><td>7</td><td>6</td><td>12.68757</td><td>7</td><td>2</td><td>0</td><td>0.080722064</td><td>99.90165</td><td>0</td><td>0</td><td>--</td><td>0.3107282</td><td>0.18845636</td><td>0.6490926</td><td>0.5010579</td><td>-55.623833</td><td>77.83787</td><td>-55.41459</td><td>42.314186</td><td>False</td><td>60</td><td>63.14818791426526</td><td>1.5206937</td><td>41.52591</td><td>21.186464</td><td>2</td><td>38.14436522035767</td><td>17.298803</td><td>2.205029</td><td>21.384966</td><td>0</td><td>--</td><td>--</td><td>--</td><td>--</td><td>0</td><td>0</td><td>--</td><td>--</td><td>1</td><td>--</td><td>--</td><td>0.19850159</td><td>--</td><td>--</td><td>--</td><td>0</td><td>--</td><td>--</td><td>--</td><td>306.1814015029427</td><td>-44.85904068295176</td><td>311.02390182955355</td><td>-62.17712586525588</td></tr>\n",
              "<tr><td>1636042515805110273</td><td>Gaia EDR3 4689644042839374208</td><td>4689644042839374208</td><td>600664637</td><td>2016.0</td><td>6.134939904740407</td><td>2.1055033</td><td>-71.95447784236892</td><td>0.4266986</td><td>--</td><td>--</td><td>--</td><td>--</td><td>--</td><td>--</td><td>--</td><td>--</td><td>-0.24036492</td><td>--</td><td>--</td><td>--</td><td>--</td><td>--</td><td>--</td><td>--</td><td>--</td><td>--</td><td>89</td><td>0</td><td>89</td><td>0</td><td>0.69882786</td><td>92.67369</td><td>0.0</td><td>0.0</td><td>3</td><td>False</td><td>--</td><td>--</td><td>--</td><td>--</td><td>--</td><td>--</td><td>--</td><td>--</td><td>12</td><td>10</td><td>4.073009</td><td>18</td><td>7</td><td>3</td><td>0.1820641</td><td>76.55797</td><td>0</td><td>62</td><td>--</td><td>0.18824051</td><td>0.6592003</td><td>0.06103518</td><td>0.33606595</td><td>-23.937405</td><td>-5.9966483</td><td>-37.427166</td><td>13.873</td><td>False</td><td>115</td><td>219.92458967153075</td><td>1.3167806</td><td>167.01689</td><td>19.831682</td><td>0</td><td>--</td><td>--</td><td>--</td><td>--</td><td>0</td><td>--</td><td>--</td><td>--</td><td>--</td><td>--</td><td>--</td><td>--</td><td>--</td><td>2</td><td>--</td><td>--</td><td>--</td><td>--</td><td>--</td><td>--</td><td>0</td><td>--</td><td>--</td><td>--</td><td>305.8733881168263</td><td>-45.01983226756902</td><td>311.5238674708977</td><td>-62.315639263048666</td></tr>\n",
              "<tr><td>...</td><td>...</td><td>...</td><td>...</td><td>...</td><td>...</td><td>...</td><td>...</td><td>...</td><td>...</td><td>...</td><td>...</td><td>...</td><td>...</td><td>...</td><td>...</td><td>...</td><td>...</td><td>...</td><td>...</td><td>...</td><td>...</td><td>...</td><td>...</td><td>...</td><td>...</td><td>...</td><td>...</td><td>...</td><td>...</td><td>...</td><td>...</td><td>...</td><td>...</td><td>...</td><td>...</td><td>...</td><td>...</td><td>...</td><td>...</td><td>...</td><td>...</td><td>...</td><td>...</td><td>...</td><td>...</td><td>...</td><td>...</td><td>...</td><td>...</td><td>...</td><td>...</td><td>...</td><td>...</td><td>...</td><td>...</td><td>...</td><td>...</td><td>...</td><td>...</td><td>...</td><td>...</td><td>...</td><td>...</td><td>...</td><td>...</td><td>...</td><td>...</td><td>...</td><td>...</td><td>...</td><td>...</td><td>...</td><td>...</td><td>...</td><td>...</td><td>...</td><td>...</td><td>...</td><td>...</td><td>...</td><td>...</td><td>...</td><td>...</td><td>...</td><td>...</td><td>...</td><td>...</td><td>...</td><td>...</td><td>...</td><td>...</td><td>...</td><td>...</td><td>...</td><td>...</td><td>...</td><td>...</td><td>...</td></tr>\n",
              "<tr><td>1636042515805110273</td><td>Gaia EDR3 4689614867140106624</td><td>4689614867140106624</td><td>565748714</td><td>2016.0</td><td>5.4552911081693605</td><td>0.08788105</td><td>-72.14701951747476</td><td>0.089877814</td><td>0.03732885228751637</td><td>0.10242957</td><td>0.36443433</td><td>5.376953</td><td>4.738709817888313</td><td>0.11507666</td><td>-2.540916054522076</td><td>0.11802555</td><td>-0.010030216</td><td>0.1834935</td><td>-0.18045175</td><td>0.10555851</td><td>-0.023729706</td><td>0.0977065</td><td>0.02599722</td><td>-0.09442589</td><td>0.07830468</td><td>-0.004268895</td><td>338</td><td>0</td><td>337</td><td>1</td><td>-0.8811724</td><td>322.10477</td><td>0.0</td><td>0.0</td><td>31</td><td>False</td><td>1.5570704</td><td>--</td><td>--</td><td>--</td><td>--</td><td>--</td><td>--</td><td>--</td><td>41</td><td>26</td><td>0.1639627</td><td>47</td><td>18</td><td>0</td><td>0.006238787</td><td>82.41355</td><td>0</td><td>0</td><td>0.9650072</td><td>0.16744667</td><td>0.043709964</td><td>0.048888873</td><td>0.23489735</td><td>27.029974</td><td>-73.41977</td><td>-30.371328</td><td>41.880707</td><td>False</td><td>386</td><td>982.1917804019515</td><td>1.1150434</td><td>880.8552</td><td>18.206877</td><td>43</td><td>519.6949512747318</td><td>6.614298</td><td>78.57145</td><td>18.549171</td><td>39</td><td>635.3141061099185</td><td>5.8184</td><td>109.19052</td><td>17.740425</td><td>0</td><td>1</td><td>0</td><td>1</td><td>0</td><td>1.1759506</td><td>0.80874634</td><td>0.3422947</td><td>0.46645164</td><td>--</td><td>--</td><td>0</td><td>--</td><td>--</td><td>--</td><td>306.123559096181</td><td>-44.79723935766453</td><td>310.9350996126707</td><td>-62.23867187152775</td></tr>\n",
              "<tr><td>1636042515805110273</td><td>Gaia EDR3 4689614867153940736</td><td>4689614867153940736</td><td>934971426</td><td>2016.0</td><td>5.450677382987207</td><td>0.04454544</td><td>-72.14519498936653</td><td>0.044190258</td><td>0.2846028075666929</td><td>0.050751403</td><td>5.607782</td><td>5.677877</td><td>4.938247002830803</td><td>0.05760831</td><td>-2.802142745912858</td><td>0.060258947</td><td>-0.013120174</td><td>0.18808502</td><td>-0.25608575</td><td>0.077753305</td><td>-0.11046953</td><td>0.07951904</td><td>0.004326249</td><td>-0.1705297</td><td>0.007418713</td><td>-0.044490576</td><td>371</td><td>0</td><td>371</td><td>0</td><td>0.413985</td><td>391.68484</td><td>0.0</td><td>0.0</td><td>31</td><td>False</td><td>1.5539496</td><td>--</td><td>--</td><td>--</td><td>--</td><td>--</td><td>--</td><td>--</td><td>44</td><td>27</td><td>0.08459287</td><td>50</td><td>20</td><td>0</td><td>0.020475464</td><td>84.08916</td><td>0</td><td>0</td><td>1.014425</td><td>0.12285958</td><td>0.039100204</td><td>0.1153544</td><td>0.1690611</td><td>34.255928</td><td>-60.764206</td><td>-48.35842</td><td>41.799347</td><td>False</td><td>421</td><td>2913.0984435600976</td><td>1.993752</td><td>1461.1138</td><td>17.02648</td><td>48</td><td>1685.7553953191252</td><td>19.381863</td><td>86.97592</td><td>17.271555</td><td>46</td><td>2134.562198424323</td><td>18.401115</td><td>116.001785</td><td>16.424623</td><td>0</td><td>20</td><td>0</td><td>21</td><td>0</td><td>1.3114276</td><td>0.84693146</td><td>0.24507523</td><td>0.60185623</td><td>--</td><td>--</td><td>0</td><td>--</td><td>--</td><td>--</td><td>306.1259420088624</td><td>-44.79881118214638</td><td>310.9368300921628</td><td>-62.23650853166575</td></tr>\n",
              "<tr><td>1636042515805110273</td><td>Gaia EDR3 4689614867153955328</td><td>4689614867153955328</td><td>701772350</td><td>2016.0</td><td>5.47160517314001</td><td>0.14788102</td><td>-72.14852611832316</td><td>0.15049726</td><td>0.48185219129256845</td><td>0.17132916</td><td>2.8124354</td><td>6.5325027</td><td>5.701467229696171</td><td>0.19271931</td><td>-3.1885515566706286</td><td>0.19098274</td><td>0.059427425</td><td>0.126114</td><td>-0.21412413</td><td>0.05164195</td><td>-0.17018294</td><td>0.037508644</td><td>-0.10011211</td><td>-0.039395932</td><td>0.116893604</td><td>0.02075619</td><td>337</td><td>0</td><td>336</td><td>1</td><td>0.85072505</td><td>369.196</td><td>0.24229503</td><td>0.21943332</td><td>31</td><td>False</td><td>1.5402188</td><td>--</td><td>--</td><td>--</td><td>--</td><td>--</td><td>--</td><td>--</td><td>40</td><td>26</td><td>0.26971582</td><td>46</td><td>20</td><td>0</td><td>0.005247821</td><td>84.76393</td><td>0</td><td>0</td><td>1.032228</td><td>0.18653604</td><td>0.09628837</td><td>0.052342106</td><td>0.22099163</td><td>22.471947</td><td>-44.929893</td><td>-41.48155</td><td>37.71781</td><td>False</td><td>384</td><td>485.0812273068761</td><td>0.9784041</td><td>495.7882</td><td>18.97283</td><td>41</td><td>243.60200377004156</td><td>7.197759</td><td>33.844147</td><td>19.37184</td><td>40</td><td>325.62074130200494</td><td>5.268445</td><td>61.805855</td><td>18.466116</td><td>0</td><td>2</td><td>0</td><td>2</td><td>0</td><td>1.1734586</td><td>0.9057236</td><td>0.3990097</td><td>0.50671387</td><td>--</td><td>--</td><td>0</td><td>--</td><td>--</td><td>--</td><td>306.11626082585985</td><td>-44.79655997348937</td><td>310.93800308950654</td><td>-62.243717071551806</td></tr>\n",
              "<tr><td>1636042515805110273</td><td>Gaia EDR3 4689614867153955840</td><td>4689614867153955840</td><td>642283500</td><td>2016.0</td><td>5.47436400920164</td><td>0.15763833</td><td>-72.13669127085429</td><td>0.15762721</td><td>0.5339860826929217</td><td>0.18090342</td><td>2.9517744</td><td>5.866634</td><td>5.420562083728756</td><td>0.20448087</td><td>-2.2438583188701187</td><td>0.20797254</td><td>-0.02215982</td><td>0.19541794</td><td>-0.22653571</td><td>0.066925466</td><td>-0.09022782</td><td>0.06684045</td><td>-0.056066405</td><td>-0.14070873</td><td>0.039355643</td><td>-0.042089973</td><td>373</td><td>0</td><td>369</td><td>4</td><td>-1.5497565</td><td>338.8808</td><td>0.0</td><td>0.0</td><td>31</td><td>False</td><td>1.5355074</td><td>--</td><td>--</td><td>--</td><td>--</td><td>--</td><td>--</td><td>--</td><td>45</td><td>27</td><td>0.2944719</td><td>52</td><td>23</td><td>0</td><td>0.0061488636</td><td>63.827885</td><td>0</td><td>0</td><td>0.9422177</td><td>0.15828025</td><td>0.024946928</td><td>0.0823276</td><td>0.17866263</td><td>29.03254</td><td>-67.11832</td><td>-48.649715</td><td>39.66584</td><td>False</td><td>421</td><td>407.4847438719981</td><td>0.8236354</td><td>494.73923</td><td>19.162088</td><td>44</td><td>205.86399884485797</td><td>6.33776</td><td>32.48214</td><td>19.554592</td><td>44</td><td>284.06093915891967</td><td>6.0650496</td><td>46.835716</td><td>18.614367</td><td>0</td><td>0</td><td>0</td><td>1</td><td>0</td><td>1.2023149</td><td>0.9402256</td><td>0.39250374</td><td>0.54772186</td><td>--</td><td>--</td><td>0</td><td>--</td><td>--</td><td>--</td><td>306.11777382339255</td><td>-44.808376353965265</td><td>310.9605620044668</td><td>-62.238204884118076</td></tr>\n",
              "<tr><td>1636042515805110273</td><td>Gaia EDR3 4689614867153955968</td><td>4689614867153955968</td><td>26324553</td><td>2016.0</td><td>5.474646820989635</td><td>0.2522273</td><td>-72.14299626926213</td><td>0.2659236</td><td>0.5531781178333992</td><td>0.28795147</td><td>1.9210812</td><td>5.7354393</td><td>4.27876011915806</td><td>0.31113008</td><td>-3.8193552691899364</td><td>0.3418964</td><td>-0.3251331</td><td>0.26797494</td><td>-0.03515704</td><td>-0.22945802</td><td>-0.23809147</td><td>-0.15540238</td><td>0.29010367</td><td>-0.1373032</td><td>-0.06795078</td><td>-0.28417432</td><td>292</td><td>0</td><td>288</td><td>4</td><td>7.6100683</td><td>528.4755</td><td>1.7853352</td><td>8.721959</td><td>95</td><td>False</td><td>--</td><td>1.3890566</td><td>0.07111134</td><td>-0.1563488</td><td>0.22007132</td><td>-0.0043961797</td><td>0.026761342</td><td>0.16106829</td><td>35</td><td>22</td><td>0.52497804</td><td>43</td><td>16</td><td>0</td><td>0.013041577</td><td>70.79536</td><td>4</td><td>16</td><td>1.3356884</td><td>0.17781445</td><td>0.21454285</td><td>0.1753369</td><td>0.010889917</td><td>13.228483</td><td>46.907906</td><td>-51.502377</td><td>20.470512</td><td>False</td><td>333</td><td>438.74946474149715</td><td>1.5954267</td><td>275.00446</td><td>19.081825</td><td>0</td><td>--</td><td>--</td><td>--</td><td>--</td><td>0</td><td>--</td><td>--</td><td>--</td><td>--</td><td>--</td><td>--</td><td>--</td><td>--</td><td>2</td><td>--</td><td>--</td><td>--</td><td>--</td><td>--</td><td>--</td><td>0</td><td>--</td><td>--</td><td>--</td><td>306.11622039030107</td><td>-44.8021678316253</td><td>310.949152188294</td><td>-62.241598724462854</td></tr>\n",
              "<tr><td>1636042515805110273</td><td>Gaia EDR3 4689614867153956096</td><td>4689614867153956096</td><td>156668872</td><td>2016.0</td><td>5.475525275183533</td><td>0.15725948</td><td>-72.14211461010467</td><td>0.15048891</td><td>0.4515015891800929</td><td>0.1779169</td><td>2.5377104</td><td>5.9301624</td><td>5.234383137152993</td><td>0.19373395</td><td>-2.787123887517073</td><td>0.19398019</td><td>-0.15478219</td><td>0.23525198</td><td>-0.2594177</td><td>0.075252436</td><td>-0.1678321</td><td>0.099329144</td><td>-0.022521483</td><td>-0.21951123</td><td>0.06276532</td><td>-0.10886591</td><td>351</td><td>0</td><td>349</td><td>2</td><td>3.829483</td><td>474.55026</td><td>0.72466546</td><td>2.1273293</td><td>31</td><td>False</td><td>1.5440856</td><td>--</td><td>--</td><td>--</td><td>--</td><td>--</td><td>--</td><td>--</td><td>42</td><td>27</td><td>0.28743795</td><td>47</td><td>19</td><td>0</td><td>0.014391576</td><td>70.25795</td><td>0</td><td>0</td><td>1.1484797</td><td>0.17063749</td><td>0.05101665</td><td>0.03838904</td><td>0.12516394</td><td>54.844273</td><td>36.17804</td><td>-36.12603</td><td>43.45362</td><td>False</td><td>377</td><td>528.7459214934007</td><td>0.9853589</td><td>536.60236</td><td>18.87925</td><td>15</td><td>266.9459536477603</td><td>10.471901</td><td>25.491642</td><td>19.272484</td><td>13</td><td>363.4863107620036</td><td>12.767132</td><td>28.470476</td><td>18.346676</td><td>0</td><td>1</td><td>0</td><td>0</td><td>0</td><td>1.192316</td><td>0.92580795</td><td>0.39323425</td><td>0.5325737</td><td>--</td><td>--</td><td>0</td><td>--</td><td>--</td><td>--</td><td>306.1160460231996</td><td>-44.8030813854383</td><td>310.95106608239996</td><td>-62.24136353641994</td></tr>\n",
              "<tr><td>1636042515805110273</td><td>Gaia EDR3 4689614867153956608</td><td>4689614867153956608</td><td>1504467770</td><td>2016.0</td><td>5.488942936555503</td><td>0.09109782</td><td>-72.13843289794373</td><td>0.09028603</td><td>0.23463321880921106</td><td>0.103926644</td><td>2.2576811</td><td>6.012463</td><td>5.207095899538856</td><td>0.117903434</td><td>-3.0059711318344786</td><td>0.119144075</td><td>-0.040984303</td><td>0.17245705</td><td>-0.24417327</td><td>0.06682889</td><td>-0.123849705</td><td>0.07482557</td><td>-0.054444555</td><td>-0.15934637</td><td>0.022092821</td><td>-0.06064696</td><td>382</td><td>0</td><td>382</td><td>0</td><td>0.42166516</td><td>404.38617</td><td>0.0</td><td>0.0</td><td>31</td><td>False</td><td>1.5729487</td><td>--</td><td>--</td><td>--</td><td>--</td><td>--</td><td>--</td><td>--</td><td>45</td><td>27</td><td>0.1708722</td><td>51</td><td>19</td><td>0</td><td>0.01952943</td><td>86.02879</td><td>0</td><td>0</td><td>1.0145068</td><td>0.14037445</td><td>0.02124393</td><td>0.09491307</td><td>0.16366091</td><td>31.04248</td><td>-42.70194</td><td>-50.159195</td><td>39.668583</td><td>False</td><td>418</td><td>903.132204559532</td><td>1.1447254</td><td>788.9509</td><td>18.297989</td><td>45</td><td>515.3324103682613</td><td>8.79565</td><td>58.589466</td><td>18.558323</td><td>42</td><td>625.057254956783</td><td>7.5156155</td><td>83.16781</td><td>17.758097</td><td>0</td><td>1</td><td>0</td><td>1</td><td>0</td><td>1.2627051</td><td>0.8002262</td><td>0.260334</td><td>0.5398922</td><td>--</td><td>--</td><td>0</td><td>--</td><td>--</td><td>--</td><td>306.1111576766146</td><td>-44.807377812838425</td><td>310.96243875420726</td><td>-62.2429236217173</td></tr>\n",
              "<tr><td>1636042515805110273</td><td>Gaia EDR3 4689614867153977088</td><td>4689614867153977088</td><td>752437330</td><td>2016.0</td><td>5.454207435007339</td><td>0.2131373</td><td>-72.15198938576829</td><td>0.24797226</td><td>-0.038534541537574185</td><td>0.26797786</td><td>-0.14379749</td><td>6.424071</td><td>5.73287009999351</td><td>0.26391205</td><td>-2.898773741225458</td><td>0.31028423</td><td>0.008653261</td><td>0.2029801</td><td>-0.24848025</td><td>0.14887519</td><td>-0.35560977</td><td>0.17233226</td><td>0.096602574</td><td>-0.15882581</td><td>0.088789195</td><td>0.060201902</td><td>314</td><td>0</td><td>313</td><td>1</td><td>-0.3639705</td><td>309.20468</td><td>0.0</td><td>0.0</td><td>95</td><td>False</td><td>--</td><td>1.4734993</td><td>0.06863738</td><td>-0.038499597</td><td>0.09258417</td><td>0.013386494</td><td>0.07101118</td><td>-0.075167164</td><td>38</td><td>23</td><td>0.43322882</td><td>42</td><td>15</td><td>3</td><td>0.059609365</td><td>84.52978</td><td>2</td><td>2</td><td>0.9842671</td><td>0.16079445</td><td>0.12311982</td><td>0.14480622</td><td>0.21892329</td><td>44.04596</td><td>-61.732502</td><td>-46.05987</td><td>-42.946457</td><td>False</td><td>341</td><td>327.49959070066274</td><td>1.0119134</td><td>323.6439</td><td>19.39934</td><td>8</td><td>267.12447900330784</td><td>37.2953</td><td>7.162417</td><td>19.271757</td><td>8</td><td>375.23343944171353</td><td>31.630175</td><td>11.863148</td><td>18.312141</td><td>0</td><td>0</td><td>0</td><td>0</td><td>0</td><td>1.9614006</td><td>0.9596157</td><td>-0.12758255</td><td>1.0871983</td><td>--</td><td>--</td><td>0</td><td>--</td><td>--</td><td>--</td><td>306.1228890727159</td><td>-44.792281146033986</td><td>310.92565282920344</td><td>-62.24100630206061</td></tr>\n",
              "<tr><td>1636042515805110273</td><td>Gaia EDR3 4689614867153977472</td><td>4689614867153977472</td><td>1421109813</td><td>2016.0</td><td>5.459803047526136</td><td>0.17312314</td><td>-72.15149531832931</td><td>0.16760877</td><td>-0.037214346157862</td><td>0.19513468</td><td>-0.19071108</td><td>1.4827714</td><td>0.3998003040419702</td><td>0.22418676</td><td>-1.4278552943860936</td><td>0.22344278</td><td>0.029602854</td><td>0.091914326</td><td>-0.22997838</td><td>0.026125578</td><td>-0.14505872</td><td>0.0195645</td><td>-0.04439051</td><td>-0.09608391</td><td>0.07327885</td><td>-0.032961573</td><td>359</td><td>0</td><td>357</td><td>2</td><td>-1.3922035</td><td>330.96426</td><td>0.0</td><td>0.0</td><td>31</td><td>False</td><td>1.5228366</td><td>--</td><td>--</td><td>--</td><td>--</td><td>--</td><td>--</td><td>--</td><td>43</td><td>26</td><td>0.31757122</td><td>48</td><td>18</td><td>0</td><td>0.018454058</td><td>81.863075</td><td>0</td><td>0</td><td>0.9470608</td><td>0.136533</td><td>0.073248185</td><td>0.10081366</td><td>0.16910984</td><td>31.941061</td><td>-31.629385</td><td>-47.660152</td><td>35.500523</td><td>False</td><td>390</td><td>381.49401503409086</td><td>0.84899056</td><td>449.35013</td><td>19.233648</td><td>43</td><td>191.60867641067352</td><td>4.7498636</td><td>40.33983</td><td>19.632504</td><td>42</td><td>284.58366395398554</td><td>4.9496326</td><td>57.495914</td><td>18.612371</td><td>0</td><td>0</td><td>0</td><td>1</td><td>0</td><td>1.2482302</td><td>1.0201321</td><td>0.3988552</td><td>0.62127686</td><td>--</td><td>--</td><td>0</td><td>--</td><td>--</td><td>--</td><td>306.1206166156345</td><td>-44.793045831857405</td><td>310.92849336445676</td><td>-62.242204313574355</td></tr>\n",
              "<tr><td>1636042515805110273</td><td>Gaia EDR3 4689614867154026496</td><td>4689614867154026496</td><td>670899500</td><td>2016.0</td><td>5.439305308134728</td><td>1.0174133</td><td>-72.15176350057254</td><td>0.90431404</td><td>1.5044376263251942</td><td>0.96003157</td><td>1.567071</td><td>3.4142783</td><td>1.1332703935458848</td><td>1.1914985</td><td>-3.2207132315879274</td><td>1.254987</td><td>-0.27682132</td><td>0.19136265</td><td>-0.5085784</td><td>0.1623297</td><td>0.09386437</td><td>0.1762144</td><td>-0.5435835</td><td>-0.17333865</td><td>-0.21482934</td><td>0.010579264</td><td>195</td><td>0</td><td>193</td><td>2</td><td>2.5106103</td><td>253.51494</td><td>2.8780396</td><td>1.9645153</td><td>95</td><td>False</td><td>--</td><td>1.5716196</td><td>0.25149992</td><td>-0.09106373</td><td>-0.12359654</td><td>-0.20721392</td><td>0.23731868</td><td>0.38417047</td><td>24</td><td>17</td><td>1.8556216</td><td>26</td><td>12</td><td>2</td><td>0.01857071</td><td>14.259115</td><td>0</td><td>3</td><td>1.1307327</td><td>0.1553991</td><td>0.13959536</td><td>0.22835298</td><td>0.15626943</td><td>56.29689</td><td>28.26434</td><td>-43.665592</td><td>42.038567</td><td>False</td><td>208</td><td>101.83661250846352</td><td>1.0234586</td><td>99.502426</td><td>20.667606</td><td>0</td><td>--</td><td>--</td><td>--</td><td>--</td><td>0</td><td>--</td><td>--</td><td>--</td><td>--</td><td>--</td><td>--</td><td>--</td><td>--</td><td>2</td><td>--</td><td>--</td><td>--</td><td>--</td><td>--</td><td>--</td><td>0</td><td>--</td><td>--</td><td>--</td><td>306.12929176786986</td><td>-44.79176505754866</td><td>310.9209017244862</td><td>-62.237004417697655</td></tr>\n",
              "</table></div>"
            ],
            "text/plain": [
              "<Table length=119790>\n",
              "    solution_id              designation          ...       ecl_lat      \n",
              "                                                  ...         deg        \n",
              "       int64                    object            ...       float64      \n",
              "------------------- ----------------------------- ... -------------------\n",
              "1636042515805110273 Gaia EDR3 4689643660613246592 ... -62.302293426471316\n",
              "1636042515805110273 Gaia EDR3 4689643660613247616 ...   -62.3011638157787\n",
              "1636042515805110273 Gaia EDR3 4689643694968607360 ... -62.307652370458285\n",
              "1636042515805110273 Gaia EDR3 4689617654555051904 ...   -62.1890152972008\n",
              "1636042515805110273 Gaia EDR3 4689643767969822080 ... -62.330931217112074\n",
              "1636042515805110273 Gaia EDR3 4689643767969864448 ... -62.329147289755895\n",
              "1636042515805110273 Gaia EDR3 4689644042839367040 ...   -62.3121778943629\n",
              "1636042515805110273 Gaia EDR3 4689618925865404928 ...  -62.17712586525588\n",
              "1636042515805110273 Gaia EDR3 4689644042839374208 ... -62.315639263048666\n",
              "                ...                           ... ...                 ...\n",
              "1636042515805110273 Gaia EDR3 4689614867140106624 ...  -62.23867187152775\n",
              "1636042515805110273 Gaia EDR3 4689614867153940736 ...  -62.23650853166575\n",
              "1636042515805110273 Gaia EDR3 4689614867153955328 ... -62.243717071551806\n",
              "1636042515805110273 Gaia EDR3 4689614867153955840 ... -62.238204884118076\n",
              "1636042515805110273 Gaia EDR3 4689614867153955968 ... -62.241598724462854\n",
              "1636042515805110273 Gaia EDR3 4689614867153956096 ...  -62.24136353641994\n",
              "1636042515805110273 Gaia EDR3 4689614867153956608 ...   -62.2429236217173\n",
              "1636042515805110273 Gaia EDR3 4689614867153977088 ...  -62.24100630206061\n",
              "1636042515805110273 Gaia EDR3 4689614867153977472 ... -62.242204313574355\n",
              "1636042515805110273 Gaia EDR3 4689614867154026496 ... -62.237004417697655"
            ]
          },
          "metadata": {},
          "execution_count": 39
        }
      ]
    },
    {
      "cell_type": "markdown",
      "metadata": {
        "id": "3XSORxzC7s3S"
      },
      "source": [
        "You can read about what these columns mean [here](https://gea.esac.esa.int/archive/documentation/GEDR3/Gaia_archive/chap_datamodel/sec_dm_main_tables/ssec_dm_gaia_source.html)."
      ]
    },
    {
      "cell_type": "markdown",
      "metadata": {
        "id": "03JYDhxt87qG"
      },
      "source": [
        "First, let's look at the density of these sources on the sky:"
      ]
    },
    {
      "cell_type": "code",
      "metadata": {
        "colab": {
          "base_uri": "https://localhost:8080/",
          "height": 265
        },
        "id": "hjR_cZQm7DL-",
        "outputId": "49897567-2dd2-4924-c304-f7f9ed15fa2a"
      },
      "source": [
        "plt.hist2d(\n",
        "    data['ra'], data['dec'],\n",
        "    bins=50\n",
        ")\n",
        "plt.show()"
      ],
      "execution_count": null,
      "outputs": [
        {
          "output_type": "display_data",
          "data": {
            "image/png": "[encoded data removed]",
            "text/plain": [
              "<Figure size 432x288 with 1 Axes>"
            ]
          },
          "metadata": {
            "needs_background": "light"
          }
        }
      ]
    },
    {
      "cell_type": "markdown",
      "metadata": {
        "id": "OBI6rxYzATq4"
      },
      "source": [
        "Is this the density distribution that you expect? What can explain this density pattern?"
      ]
    },
    {
      "cell_type": "markdown",
      "metadata": {
        "id": "V3gQnOJp4U2M"
      },
      "source": [
        "Let's take a look at the parallax distribution:"
      ]
    },
    {
      "cell_type": "code",
      "metadata": {
        "colab": {
          "base_uri": "https://localhost:8080/",
          "height": 279
        },
        "id": "2RxQX64J2nW-",
        "outputId": "313bd636-9e77-4a65-81e0-08f1a4a39e5f"
      },
      "source": [
        "plt.hist(data['parallax'], bins=100)\n",
        "plt.xlabel('parallax (mas)')\n",
        "plt.ylabel('N')\n",
        "plt.show()"
      ],
      "execution_count": null,
      "outputs": [
        {
          "output_type": "display_data",
          "data": {
            "image/png": "[encoded data removed]",
            "text/plain": [
              "<Figure size 432x288 with 1 Axes>"
            ]
          },
          "metadata": {
            "needs_background": "light"
          }
        }
      ]
    },
    {
      "cell_type": "markdown",
      "metadata": {
        "id": "yi45ymF24B8F"
      },
      "source": [
        "As you can see, many of the parallaxes are negative. This is because the parallaxes have measurement errors. These are accounted for in `parallax_error`. In order to calculate an average parallax for 47 Tuc, we can give less weight to parallaxes that have larger errors, and more weight to parallaxes with smaller errors.\n",
        "\n",
        "The way to do this is through \"inverse-variance weighting.\" This is done as follows:\n",
        "$$\n",
        "  \\left< \\varpi \\right> = \\sum_{i} \\frac{\\hat{\\varpi}_i}{\\sigma_i^2} \\Bigg/ \\sum_{i} \\frac{1}{\\sigma_i^2} \\, ,\n",
        "$$\n",
        "where $\\hat{\\varpi}_i$ is the measured parallax of star $i$, and $\\sigma_i$ is its uncertainty.\n",
        "\n",
        "In order to deal with outliers, we will also add in a small error floor $\\epsilon$, to each uncertainty, in quadrature:\n",
        "$$\n",
        "  \\sigma_i^2 \\rightarrow \\sigma_i^2 + \\epsilon^2 \\, .\n",
        "$$\n",
        "We implement this below:"
      ]
    },
    {
      "cell_type": "code",
      "metadata": {
        "colab": {
          "base_uri": "https://localhost:8080/"
        },
        "id": "for2ath534SF",
        "outputId": "71d1ea27-e7d7-4e7d-afeb-fc111f07341b"
      },
      "source": [
        "eps = 0.01\n",
        "\n",
        "plx_avg = np.average(data['parallax'], weights=1/(data['parallax_error']**2+eps**2))\n",
        "print(plx_avg)"
      ],
      "execution_count": null,
      "outputs": [
        {
          "output_type": "stream",
          "name": "stdout",
          "text": [
            "0.22353537988391725\n"
          ]
        }
      ]
    },
    {
      "cell_type": "markdown",
      "metadata": {
        "id": "E5nClP0d6oRR"
      },
      "source": [
        "We can estimate the distance to 47 Tuc using the fact that distance is inversely proportional to parallax:\n",
        "$$\n",
        "\\frac{d}{1\\,\\mathrm{kpc}} = \\frac{1\\,\\mathrm{mas}}{\\varpi} \\, .\n",
        "$$"
      ]
    },
    {
      "cell_type": "code",
      "metadata": {
        "colab": {
          "base_uri": "https://localhost:8080/"
        },
        "id": "rVpyNq4-4Acr",
        "outputId": "5c5e2998-1b62-4244-9f08-452fff1189fe"
      },
      "source": [
        "d_est = 1/plx_avg\n",
        "print(d_est)"
      ],
      "execution_count": null,
      "outputs": [
        {
          "output_type": "stream",
          "name": "stdout",
          "text": [
            "4.473564768670193\n"
          ]
        }
      ]
    },
    {
      "cell_type": "markdown",
      "metadata": {
        "id": "3bTx1DEy_AVF"
      },
      "source": [
        "This is an estimate of the distance to 47 Tuc in kiloparsecs."
      ]
    },
    {
      "cell_type": "markdown",
      "metadata": {
        "id": "8YrECyqW9X0h"
      },
      "source": [
        "## Next steps:\n",
        "\n",
        "1. Plot a color-absolute-magnitude diagram of 47 Tuc.\n",
        "2. Estimate the proper motion of 47 Tuc.\n",
        "\n",
        "The color-absolute-magnitude diagram (CAMD) should have the BP-RP magnitude on the $x$-axis, and the G-band absolute magnitude on the $y$-axis. Recall that the absolute magnitude $M$ is related to the apparent magnitude $m$ and distance $d$ by\n",
        "$$\n",
        "  m = M + 5 \\log_{10} \\left( \\frac{d}{10\\,\\mathrm{pc}} \\right) \\, .\n",
        "$$\n",
        "What stellar populations can you identify in the CAMD?"
      ]
    }
  ]
}